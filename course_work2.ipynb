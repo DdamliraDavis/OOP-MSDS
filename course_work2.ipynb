{
 "cells": [
  {
   "cell_type": "code",
   "execution_count": null,
   "id": "103942f6-5411-4954-99c7-5c2b37e0d12d",
   "metadata": {},
   "outputs": [],
   "source": [
    "#Question 1: UBOS Multi-District Population & Growth Forecast\n",
    "#Given the following dataset (Population estimates in thousands for 10 years):\n",
    "#Kampala = [1200, 1250, 1300, 1350, 1420, 1500, 1580, 1650, 1720, 1800]\n",
    "#Wakiso = [950, 1000, 1070, 1150, 1220, 1300, 1390, 1480, 1570, 1670]\n",
    "#Gulu = [320, 330, 345, 360, 375, 390, 410, 430, 455, 480]"
   ]
  },
  {
   "cell_type": "code",
   "execution_count": 1,
   "id": "69832d00-6237-40a8-9045-8a324c4920b7",
   "metadata": {},
   "outputs": [
    {
     "name": "stdout",
     "output_type": "stream",
     "text": [
      "[1200 1250 1300 1350 1420 1500 1580 1650 1720 1800]\n",
      "[ 950 1000 1070 1150 1220 1300 1390 1480 1570 1670]\n",
      "[320 330 345 360 375 390 410 430 455 480]\n"
     ]
    }
   ],
   "source": [
    "#storing the data in numpy arrays\n",
    "import numpy as np \n",
    "\n",
    "kampala = [1200, 1250, 1300, 1350, 1420, 1500, 1580, 1650, 1720, 1800]\n",
    "kampala_array = np.array(kampala)\n",
    "print(kampala_array)\n",
    "\n",
    "wakiso = [950, 1000, 1070, 1150, 1220, 1300, 1390, 1480, 1570, 1670]\n",
    "wakiso_array = np.array(wakiso)\n",
    "print(wakiso_array)\n",
    "\n",
    "gulu = [320, 330, 345, 360, 375, 390, 410, 430, 455, 480]\n",
    "gulu_array = np.array(gulu)\n",
    "print(gulu_array)\n",
    "\n"
   ]
  },
  {
   "cell_type": "code",
   "execution_count": 2,
   "id": "b8674b08-d93a-4505-bc63-e7b13990b6b1",
   "metadata": {},
   "outputs": [
    {
     "name": "stdout",
     "output_type": "stream",
     "text": [
      "\n",
      " statistics for kampala:\n",
      "Mean: 1477.000\n",
      "Median: 1460.000\n",
      "Variance: 42601.111\n",
      "Standard Deviation: 206.400\n",
      "\n",
      " statistics for wakiso:\n",
      "Mean: 1280.000\n",
      "Median: 1260.000\n",
      "Variance: 60066.667\n",
      "Standard Deviation: 245.085\n",
      "\n",
      " statistics for gulu:\n",
      "Mean: 389.500\n",
      "Median: 382.500\n",
      "Variance: 2885.833\n",
      "Standard Deviation: 53.720\n"
     ]
    }
   ],
   "source": [
    "#computing mean, median variance and standard deviation\n",
    "import numpy as np \n",
    "import statistics as stats\n",
    "\n",
    "kampala = [1200, 1250, 1300, 1350, 1420, 1500, 1580, 1650, 1720, 1800]\n",
    "kampala_array = np.array(kampala)\n",
    "\n",
    "wakiso = [950, 1000, 1070, 1150, 1220, 1300, 1390, 1480, 1570, 1670]\n",
    "wakiso_array = np.array(wakiso)\n",
    "\n",
    "gulu = [320, 330, 345, 360, 375, 390, 410, 430, 455, 480]\n",
    "gulu_array = np.array(gulu)\n",
    "\n",
    "def show_stats(name, data):\n",
    "   print(f\"\\n statistics for {name}:\")\n",
    "   print(f\"Mean: {stats.mean(data):.3f}\")\n",
    "   print(f\"Median: {stats.median(data):.3f}\")\n",
    "   print(f\"Variance: {stats.variance(data):.3f}\")\n",
    "   print(f\"Standard Deviation: {stats.stdev(data):.3f}\")\n",
    "\n",
    "show_stats(\"kampala\", kampala)\n",
    "show_stats(\"wakiso\", wakiso)\n",
    "show_stats(\"gulu\", gulu)"
   ]
  },
  {
   "cell_type": "code",
   "execution_count": 4,
   "id": "14532b2c-ad36-479c-aa55-49110089accf",
   "metadata": {},
   "outputs": [
    {
     "name": "stdout",
     "output_type": "stream",
     "text": [
      "\n",
      "Fibonacci sequence (length 5) used as growth multipliers: [1, 1, 2, 3, 5]\n",
      "\n",
      "Kampala projected (next 5 years, thousands):\n",
      " [1818. 1836. 1872. 1926. 2016.]\n",
      "\n",
      "Wakiso projected (next 5 years, thousands):\n",
      " [1686.7 1703.4 1736.8 1786.9 1870.4]\n",
      "\n",
      "Gulu projected (next 5 years, thousands):\n",
      " [484.8 489.6 499.2 513.6 537.6]\n"
     ]
    }
   ],
   "source": [
    "# Generating a fibonacci sequence projection for each district for the next five years\n",
    "import numpy as np\n",
    "import statistics as stats\n",
    "import matplotlib.pyplot as plt\n",
    "\n",
    "Kampala = np.array([1200, 1250, 1300, 1350, 1420, 1500, 1580, 1650, 1720, 1800])\n",
    "Wakiso  = np.array([950, 1000, 1070, 1150, 1220, 1300, 1390, 1480, 1570, 1670])\n",
    "Gulu    = np.array([320, 330, 345, 360, 375, 390, 410, 430, 455, 480])\n",
    "\n",
    "districts = {\"Kampala\": Kampala, \"Wakiso\": Wakiso, \"Gulu\": Gulu}\n",
    "\n",
    "def fib_sequence(n, start1=1, start2=1):\n",
    "    seq = [start1, start2]\n",
    "    while len(seq) < n:\n",
    "        seq.append(seq[-1] + seq[-2])\n",
    "    return seq[:n]\n",
    "\n",
    "fib5 = fib_sequence(5)  # [1,1,2,3,5]\n",
    "print(\"\\nFibonacci sequence (length 5) used as growth multipliers:\", fib5)\n",
    "\n",
    "projected = {}\n",
    "for name, arr in districts.items():\n",
    "    last = arr[-1]\n",
    "    \n",
    "    increments = [last * (f * 0.01) for f in fib5]\n",
    "    proj = [last + sum(increments[:i+1]) for i in range(len(increments))]\n",
    "    projected[name] = np.array(proj)\n",
    "    print(f\"\\n{name} projected (next 5 years, thousands):\\n\", np.round(projected[name], 2))\n"
   ]
  },
  {
   "cell_type": "code",
   "execution_count": 6,
   "id": "0fcef087-8574-4fc7-9a67-9ba006da4f3a",
   "metadata": {},
   "outputs": [
    {
     "name": "stdout",
     "output_type": "stream",
     "text": [
      "\n",
      "Kampala: actual variance = 38341.00, projected variance = 5106.24\n",
      "\n",
      "Wakiso: actual variance = 54060.00, projected variance = 4395.31\n",
      "\n",
      "Gulu: actual variance = 2597.00, projected variance = 363.11\n"
     ]
    }
   ],
   "source": [
    "#Comparing variance actual vs projected\n",
    "\n",
    "for name in districts:\n",
    "    actual_var = stats.pvariance(list(districts[name]))\n",
    "    proj_var = stats.pvariance(list(projected[name]))\n",
    "    print(f\"\\n{name}: actual variance = {actual_var:.2f}, projected variance = {proj_var:.2f}\")\n"
   ]
  },
  {
   "cell_type": "code",
   "execution_count": 8,
   "id": "4fc91b1d-a448-4b6b-ace0-13683966b6f3",
   "metadata": {},
   "outputs": [
    {
     "data": {
      "image/png": "[encoded data removed]",
      "text/plain": [
       "<Figure size 1000x600 with 1 Axes>"
      ]
     },
     "metadata": {},
     "output_type": "display_data"
    }
   ],
   "source": [
    "#ploting actual vs variance \n",
    "\n",
    "years_actual = np.arange(1, len(Kampala)+1)\n",
    "years_proj = np.arange(len(Kampala)+1, len(Kampala)+1+len(fib5))\n",
    "\n",
    "plt.figure(figsize=(10,6))\n",
    "for name, arr in districts.items():\n",
    "    plt.plot(years_actual, arr, marker='o', label=f\"{name} Actual\")\n",
    "    plt.plot(years_proj, projected[name], marker='x', linestyle='--', label=f\"{name} Projected\")\n",
    "plt.xlabel(\"Year (index)\")\n",
    "plt.ylabel(\"Population (thousands)\")\n",
    "plt.title(\"Actual vs Projected Populations (Fibonacci-based projection)\")\n",
    "plt.legend()\n",
    "plt.grid(True)\n",
    "plt.show()"
   ]
  },
  {
   "cell_type": "code",
   "execution_count": null,
   "id": "59276b36-beb0-4bc0-98c1-d251bb1fd876",
   "metadata": {},
   "outputs": [],
   "source": [
    "#Question 2: Solar Micro-Grid Simulation\n",
    "#Equations: 3x + 2y = D1 and 4x + y = D2, where x = solar panels, y = batteries."
   ]
  },
  {
   "cell_type": "code",
   "execution_count": 9,
   "id": "3650dafc-3472-4029-ae75-5e7f5dc3c365",
   "metadata": {},
   "outputs": [
    {
     "name": "stdin",
     "output_type": "stream",
     "text": [
      "Enter daily demand value D1:  2.0\n",
      "Enter daily demand value D2:  20\n"
     ]
    }
   ],
   "source": [
    "#Prompting the user to enter daily demand values D1 and D2.\n",
    "D1 = float(input(\"Enter daily demand value D1: \"))\n",
    "D2 = float(input(\"Enter daily demand value D2: \"))\n"
   ]
  },
  {
   "cell_type": "code",
   "execution_count": 12,
   "id": "b613ec62-8d23-4ff8-b9f6-eaf37b45626c",
   "metadata": {},
   "outputs": [
    {
     "name": "stdin",
     "output_type": "stream",
     "text": [
      "Enter daily demand value D1:  5\n",
      "Enter daily demand value D2:  6\n"
     ]
    },
    {
     "name": "stdout",
     "output_type": "stream",
     "text": [
      "Energy from solar panels (x): 1.4\n",
      "Energy from batteries (y): 0.4\n"
     ]
    }
   ],
   "source": [
    "D1 = float(input(\"Enter daily demand value D1: \"))\n",
    "D2 = float(input(\"Enter daily demand value D2: \"))\n",
    "\n",
    "import numpy as np\n",
    "from scipy.linalg import solve\n",
    "\n",
    "# Coefficient matrix\n",
    "A = np.array([[3, 2],\n",
    "              [4, 1]])\n",
    "\n",
    "b = np.array([D1, D2])\n",
    "\n",
    "# Solve for x and y\n",
    "x, y = solve(A, b)\n",
    "\n",
    "print(f\"Energy from solar panels (x): {x}\")\n",
    "print(f\"Energy from batteries (y): {y}\")"
   ]
  },
  {
   "cell_type": "code",
   "execution_count": 13,
   "id": "d975f71c-0784-4306-aabb-6d8fc68d2fa4",
   "metadata": {},
   "outputs": [
    {
     "name": "stdout",
     "output_type": "stream",
     "text": [
      "Enter daily demand values for 7 days:\n",
      "\n"
     ]
    },
    {
     "name": "stdin",
     "output_type": "stream",
     "text": [
      "Day 1 - Enter daily demand value D1:  5\n",
      "Day 1 - Enter daily demand value D2:  5\n"
     ]
    },
    {
     "name": "stdout",
     "output_type": "stream",
     "text": [
      "  Solar panels (x): 1.00, Batteries (y): 1.00\n",
      "\n"
     ]
    },
    {
     "name": "stdin",
     "output_type": "stream",
     "text": [
      "Day 2 - Enter daily demand value D1:  5\n",
      "Day 2 - Enter daily demand value D2:  6\n"
     ]
    },
    {
     "name": "stdout",
     "output_type": "stream",
     "text": [
      "  Solar panels (x): 1.40, Batteries (y): 0.40\n",
      "\n"
     ]
    },
    {
     "name": "stdin",
     "output_type": "stream",
     "text": [
      "Day 3 - Enter daily demand value D1:  2\n",
      "Day 3 - Enter daily demand value D2:  2\n"
     ]
    },
    {
     "name": "stdout",
     "output_type": "stream",
     "text": [
      "  Solar panels (x): 0.40, Batteries (y): 0.40\n",
      "\n"
     ]
    },
    {
     "name": "stdin",
     "output_type": "stream",
     "text": [
      "Day 4 - Enter daily demand value D1:  1\n",
      "Day 4 - Enter daily demand value D2:  1\n"
     ]
    },
    {
     "name": "stdout",
     "output_type": "stream",
     "text": [
      "  Solar panels (x): 0.20, Batteries (y): 0.20\n",
      "\n"
     ]
    },
    {
     "name": "stdin",
     "output_type": "stream",
     "text": [
      "Day 5 - Enter daily demand value D1:  1\n",
      "Day 5 - Enter daily demand value D2:  1\n"
     ]
    },
    {
     "name": "stdout",
     "output_type": "stream",
     "text": [
      "  Solar panels (x): 0.20, Batteries (y): 0.20\n",
      "\n"
     ]
    },
    {
     "name": "stdin",
     "output_type": "stream",
     "text": [
      "Day 6 - Enter daily demand value D1:  1\n",
      "Day 6 - Enter daily demand value D2:  1\n"
     ]
    },
    {
     "name": "stdout",
     "output_type": "stream",
     "text": [
      "  Solar panels (x): 0.20, Batteries (y): 0.20\n",
      "\n"
     ]
    },
    {
     "name": "stdin",
     "output_type": "stream",
     "text": [
      "Day 7 - Enter daily demand value D1:  1\n",
      "Day 7 - Enter daily demand value D2:  1\n"
     ]
    },
    {
     "name": "stdout",
     "output_type": "stream",
     "text": [
      "  Solar panels (x): 0.20, Batteries (y): 0.20\n",
      "\n",
      "=== Summary of Energy Production (7 Days) ===\n",
      "Day | Solar Panels (x) | Batteries (y)\n",
      "  1 |              1.00 |          1.00\n",
      "  2 |              1.40 |          0.40\n",
      "  3 |              0.40 |          0.40\n",
      "  4 |              0.20 |          0.20\n",
      "  5 |              0.20 |          0.20\n",
      "  6 |              0.20 |          0.20\n",
      "  7 |              0.20 |          0.20\n",
      "\n",
      "NumPy results array:\n",
      " [[1.  1. ]\n",
      " [1.4 0.4]\n",
      " [0.4 0.4]\n",
      " [0.2 0.2]\n",
      " [0.2 0.2]\n",
      " [0.2 0.2]\n",
      " [0.2 0.2]]\n"
     ]
    }
   ],
   "source": [
    "#Repeating for 7 days while storing results in a NumPy array.\n",
    "\n",
    "D1 = float(input(\"Enter daily demand value D1: \"))\n",
    "D2 = float(input(\"Enter daily demand value D2: \"))\n",
    "\n",
    "import numpy as np\n",
    "from scipy.linalg import solve\n",
    "\n",
    "# Coefficient matrix for the system of equations\n",
    "A = np.array([[3, 2],\n",
    "              [4, 1]])\n",
    "\n",
    "# Initialize an empty list to store results for 7 days\n",
    "results = []\n",
    "\n",
    "print(\"Enter daily demand values for 7 days:\\n\")\n",
    "\n",
    "for day in range(1, 8):\n",
    "    D1 = float(input(f\"Day {day} - Enter daily demand value D1: \"))\n",
    "    D2 = float(input(f\"Day {day} - Enter daily demand value D2: \"))\n",
    "    \n",
    "    # Solve the equations for x (solar panels) and y (batteries)\n",
    "    b = np.array([D1, D2])\n",
    "    x, y = solve(A, b)\n",
    "    \n",
    "    # Store the results\n",
    "    results.append([x, y])\n",
    "    \n",
    "    print(f\"  Solar panels (x): {x:.2f}, Batteries (y): {y:.2f}\\n\")\n",
    "\n",
    "# Convert list to NumPy array\n",
    "results_array = np.array(results)\n",
    "\n",
    "print(\"=== Summary of Energy Production (7 Days) ===\")\n",
    "print(\"Day | Solar Panels (x) | Batteries (y)\")\n",
    "for day, (x, y) in enumerate(results_array, start=1):\n",
    "    print(f\"{day:3d} | {x:17.2f} | {y:13.2f}\")\n",
    "\n",
    "# Optional: print the final NumPy array\n",
    "print(\"\\nNumPy results array:\\n\", results_array)\n"
   ]
  },
  {
   "cell_type": "code",
   "execution_count": 17,
   "id": "3f0e2e4c-a6fd-40f4-8c5e-0a8e4f6d3114",
   "metadata": {},
   "outputs": [
    {
     "name": "stdout",
     "output_type": "stream",
     "text": [
      "Enter daily demand values for 7 days:\n",
      "\n"
     ]
    },
    {
     "name": "stdin",
     "output_type": "stream",
     "text": [
      "Day 1 - Enter daily demand value D1:  1\n",
      "Day 1 - Enter daily demand value D2:  2\n"
     ]
    },
    {
     "name": "stdout",
     "output_type": "stream",
     "text": [
      "  Solar panels (x): 0.60, Batteries (y): -0.40\n",
      "\n"
     ]
    },
    {
     "name": "stdin",
     "output_type": "stream",
     "text": [
      "Day 2 - Enter daily demand value D1:  4\n",
      "Day 2 - Enter daily demand value D2:  5\n"
     ]
    },
    {
     "name": "stdout",
     "output_type": "stream",
     "text": [
      "  Solar panels (x): 1.20, Batteries (y): 0.20\n",
      "\n"
     ]
    },
    {
     "name": "stdin",
     "output_type": "stream",
     "text": [
      "Day 3 - Enter daily demand value D1:  5\n",
      "Day 3 - Enter daily demand value D2:  5\n"
     ]
    },
    {
     "name": "stdout",
     "output_type": "stream",
     "text": [
      "  Solar panels (x): 1.00, Batteries (y): 1.00\n",
      "\n"
     ]
    },
    {
     "name": "stdin",
     "output_type": "stream",
     "text": [
      "Day 4 - Enter daily demand value D1:  5\n",
      "Day 4 - Enter daily demand value D2:  5\n"
     ]
    },
    {
     "name": "stdout",
     "output_type": "stream",
     "text": [
      "  Solar panels (x): 1.00, Batteries (y): 1.00\n",
      "\n"
     ]
    },
    {
     "name": "stdin",
     "output_type": "stream",
     "text": [
      "Day 5 - Enter daily demand value D1:  5\n",
      "Day 5 - Enter daily demand value D2:  5\n"
     ]
    },
    {
     "name": "stdout",
     "output_type": "stream",
     "text": [
      "  Solar panels (x): 1.00, Batteries (y): 1.00\n",
      "\n"
     ]
    },
    {
     "name": "stdin",
     "output_type": "stream",
     "text": [
      "Day 6 - Enter daily demand value D1:  5\n",
      "Day 6 - Enter daily demand value D2:  5\n"
     ]
    },
    {
     "name": "stdout",
     "output_type": "stream",
     "text": [
      "  Solar panels (x): 1.00, Batteries (y): 1.00\n",
      "\n"
     ]
    },
    {
     "name": "stdin",
     "output_type": "stream",
     "text": [
      "Day 7 - Enter daily demand value D1:  5\n",
      "Day 7 - Enter daily demand value D2:  5\n"
     ]
    },
    {
     "name": "stdout",
     "output_type": "stream",
     "text": [
      "  Solar panels (x): 1.00, Batteries (y): 1.00\n",
      "\n",
      "=== Statistics of Energy Usage (7 Days) ===\n",
      "Solar Panels - Mean: 0.97, Variance: 0.03, Std Dev: 0.18\n",
      "Batteries    - Mean: 0.69, Variance: 0.32, Std Dev: 0.56\n"
     ]
    }
   ],
   "source": [
    "# Using the statistics to compute mean, variance, and standard deviation of solar vs battery usage\n",
    "D1 = float(input(\"Enter daily demand value D1: \"))\n",
    "D2 = float(input(\"Enter daily demand value D2: \"))\n",
    "\n",
    "import numpy as np\n",
    "from scipy.linalg import solve\n",
    "\n",
    "# Coefficient matrix for the system\n",
    "A = np.array([[3, 2],\n",
    "              [4, 1]])\n",
    "\n",
    "#Initializing list for 7 days\n",
    "results = []\n",
    "\n",
    "print(\"Enter daily demand values for 7 days:\\n\")\n",
    "for day in range(1, 8):\n",
    "    D1 = float(input(f\"Day {day} - Enter daily demand value D1: \"))\n",
    "    D2 = float(input(f\"Day {day} - Enter daily demand value D2: \"))\n",
    "    \n",
    "    b = np.array([D1, D2])\n",
    "    x, y = solve(A, b)\n",
    "    \n",
    "    results.append([x, y])\n",
    "    print(f\"  Solar panels (x): {x:.2f}, Batteries (y): {y:.2f}\\n\")\n",
    "\n",
    "#Converting results to NumPy array\n",
    "results_array = np.array(results)\n",
    "\n",
    "#Spliting columns for solar and battery usage\n",
    "solar_usage = results_array[:, 0]\n",
    "battery_usage = results_array[:, 1]\n",
    "\n",
    "#Computing statistics\n",
    "solar_mean = np.mean(solar_usage)\n",
    "solar_var = np.var(solar_usage, ddof=1)  # sample variance\n",
    "solar_std = np.std(solar_usage, ddof=1)  # sample standard deviation\n",
    "\n",
    "battery_mean = np.mean(battery_usage)\n",
    "battery_var = np.var(battery_usage, ddof=1)\n",
    "battery_std = np.std(battery_usage, ddof=1)\n",
    "\n",
    "# Displaying results\n",
    "print(\"=== Statistics of Energy Usage (7 Days) ===\")\n",
    "print(f\"Solar Panels - Mean: {solar_mean:.2f}, Variance: {solar_var:.2f}, Std Dev: {solar_std:.2f}\")\n",
    "print(f\"Batteries    - Mean: {battery_mean:.2f}, Variance: {battery_var:.2f}, Std Dev: {battery_std:.2f}\")\n"
   ]
  },
  {
   "cell_type": "code",
   "execution_count": null,
   "id": "8edb439e-89d4-43a2-a84e-8d3ccc097521",
   "metadata": {},
   "outputs": [],
   "source": []
  },
  {
   "cell_type": "code",
   "execution_count": null,
   "id": "9d6d0f7b-4a0d-47e6-83bf-60e6a12478d2",
   "metadata": {},
   "outputs": [],
   "source": [
    "D1 = float(input(\"Enter daily demand value D1: \"))\n",
    "D2 = float(input(\"Enter daily demand value D2: \"))\n",
    "\n",
    "import numpy as np\n",
    "from scipy.linalg import solve\n",
    "import matplotlib.pyplot as plt\n",
    "\n",
    "# Coefficient matrix\n",
    "A = np.array([[3, 2],\n",
    "              [4, 1]])\n",
    "\n",
    "# Collect daily results for 7 days\n",
    "results = []\n",
    "for day in range(1, 8):\n",
    "    D1 = float(input(f\"Day {day} - Enter daily demand value D1: \"))\n",
    "    D2 = float(input(f\"Day {day} - Enter daily demand value D2: \"))\n",
    "    \n",
    "    b = np.array([D1, D2])\n",
    "    x, y = solve(A, b)\n",
    "    results.append([x, y])\n",
    "\n",
    "# Convert to NumPy array\n",
    "results_array = np.array(results)\n",
    "solar_usage = results_array[:, 0]\n",
    "battery_usage = results_array[:, 1]\n",
    "\n",
    "# Plot daily solar vs battery usage\n",
    "days = np.arange(1, 8)\n",
    "\n",
    "plt.figure(figsize=(10, 6))\n",
    "plt.plot(days, solar_usage, marker='o', linestyle='-', label='Solar Panels (x)')\n",
    "plt.plot(days, battery_usage, marker='s', linestyle='--', label='Batteries (y)')\n",
    "\n",
    "plt.title(\"Daily Energy Usage: Solar vs Batteries\")\n",
    "plt.xlabel(\"Day\")\n",
    "plt.ylabel(\"Energy Units\")\n",
    "plt.xticks(days)\n",
    "plt.grid(True)\n",
    "plt.legend()\n",
    "plt.tight_layout()\n",
    "plt.show()"
   ]
  },
  {
   "cell_type": "code",
   "execution_count": null,
   "id": "9ade48f5-1ac7-4d39-afee-bb486ab94c8c",
   "metadata": {},
   "outputs": [],
   "source": []
  }
 ],
 "metadata": {
  "kernelspec": {
   "display_name": "Python 3 (ipykernel)",
   "language": "python",
   "name": "python3"
  },
  "language_info": {
   "codemirror_mode": {
    "name": "ipython",
    "version": 3
   },
   "file_extension": ".py",
   "mimetype": "text/x-python",
   "name": "python",
   "nbconvert_exporter": "python",
   "pygments_lexer": "ipython3",
   "version": "3.13.5"
  }
 },
 "nbformat": 4,
 "nbformat_minor": 5
}
