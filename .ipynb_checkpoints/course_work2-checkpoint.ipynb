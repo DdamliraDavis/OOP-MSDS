{
 "cells": [
  {
   "cell_type": "code",
   "execution_count": 4,
   "id": "69832d00-6237-40a8-9045-8a324c4920b7",
   "metadata": {},
   "outputs": [
    {
     "name": "stdout",
     "output_type": "stream",
     "text": [
      "[1200 1250 1300 1350 1420 1500 1580 1650 1720 1800]\n",
      "[ 950 1000 1070 1150 1220 1300 1390 1480 1570 1670]\n",
      "[320 330 345 360 375 390 410 430 455 480]\n"
     ]
    }
   ],
   "source": [
    "#storing the data in numpy arrays\n",
    "import numpy as np \n",
    "\n",
    "\n",
    "\n",
    "kampala = [1200, 1250, 1300, 1350, 1420, 1500, 1580, 1650, 1720, 1800]\n",
    "kampala_array = np.array(kampala)\n",
    "print(kampala_array)\n",
    "\n",
    "wakiso = [950, 1000, 1070, 1150, 1220, 1300, 1390, 1480, 1570, 1670]\n",
    "wakiso_array = np.array(wakiso)\n",
    "print(wakiso_array)\n",
    "\n",
    "gulu = [320, 330, 345, 360, 375, 390, 410, 430, 455, 480]\n",
    "gulu_array = np.array(gulu)\n",
    "print(gulu_array)\n",
    "\n",
    "\n",
    "#computing mean, median variance and standard deviation\n",
    "import numpy as np \n",
    "import statistics as stats\n",
    "\n",
    "kampala = [1200, 1250, 1300, 1350, 1420, 1500, 1580, 1650, 1720, 1800]\n",
    "kampala_array = np.array(kampala)\n",
    "\n",
    "wakiso = [950, 1000, 1070, 1150, 1220, 1300, 1390, 1480, 1570, 1670]\n",
    "wakiso_array = np.array(wakiso)\n",
    "\n",
    "gulu = [320, 330, 345, 360, 375, 390, 410, 430, 455, 480]\n",
    "gulu_array = np.array(gulu)\n"
   ]
  },
  {
   "cell_type": "code",
   "execution_count": 2,
   "id": "b8674b08-d93a-4505-bc63-e7b13990b6b1",
   "metadata": {},
   "outputs": [
    {
     "name": "stdout",
     "output_type": "stream",
     "text": [
      "\n",
      " statistics for kampala:\n",
      "Mean: 1477.000\n",
      "Median: 1460.000\n",
      "Variance: 42601.111\n",
      "Standard Deviation: 206.400\n",
      "\n",
      " statistics for wakiso:\n",
      "Mean: 1280.000\n",
      "Median: 1260.000\n",
      "Variance: 60066.667\n",
      "Standard Deviation: 245.085\n",
      "\n",
      " statistics for gulu:\n",
      "Mean: 389.500\n",
      "Median: 382.500\n",
      "Variance: 2885.833\n",
      "Standard Deviation: 53.720\n"
     ]
    }
   ],
   "source": [
    "#computing mean, median variance and standard deviation\n",
    "import numpy as np \n",
    "import statistics as stats\n",
    "\n",
    "kampala = [1200, 1250, 1300, 1350, 1420, 1500, 1580, 1650, 1720, 1800]\n",
    "kampala_array = np.array(kampala)\n",
    "\n",
    "wakiso = [950, 1000, 1070, 1150, 1220, 1300, 1390, 1480, 1570, 1670]\n",
    "wakiso_array = np.array(wakiso)\n",
    "\n",
    "gulu = [320, 330, 345, 360, 375, 390, 410, 430, 455, 480]\n",
    "gulu_array = np.array(gulu)\n",
    "\n",
    "def show_stats(name, data):\n",
    "   print(f\"\\n statistics for {name}:\")\n",
    "   print(f\"Mean: {stats.mean(data):.3f}\")\n",
    "   print(f\"Median: {stats.median(data):.3f}\")\n",
    "   print(f\"Variance: {stats.variance(data):.3f}\")\n",
    "   print(f\"Standard Deviation: {stats.stdev(data):.3f}\")\n",
    "\n",
    "show_stats(\"kampala\", kampala)\n",
    "show_stats(\"wakiso\", wakiso)\n",
    "show_stats(\"gulu\", gulu)"
   ]
  },
  {
   "cell_type": "code",
   "execution_count": 8,
   "id": "802b8dbe-e0de-42fb-8795-baab59612fe5",
   "metadata": {},
   "outputs": [
    {
     "name": "stderr",
     "output_type": "stream",
     "text": [
      "Cloning into 'SAMPLE'...\n",
      "warning: You appear to have cloned an empty repository.\n"
     ]
    }
   ],
   "source": [
    "!git clone https://github.com/DdamliraDavis/SAMPLE.git"
   ]
  },
  {
   "cell_type": "code",
   "execution_count": 9,
   "id": "6b8ab6e7-332a-4b28-8ce8-37367dd54dbe",
   "metadata": {},
   "outputs": [
    {
     "name": "stderr",
     "output_type": "stream",
     "text": [
      "'pwd' is not recognized as an internal or external command,\n",
      "operable program or batch file.\n"
     ]
    }
   ],
   "source": [
    "import os\n",
    "os.chdir('SAMPLE')\n",
    "# Verify the current directory\n",
    "!pwd"
   ]
  },
  {
   "cell_type": "code",
   "execution_count": null,
   "id": "d138a824-b946-4653-8430-90b4bce0a3cd",
   "metadata": {},
   "outputs": [],
   "source": []
  }
 ],
 "metadata": {
  "kernelspec": {
   "display_name": "Python 3 (ipykernel)",
   "language": "python",
   "name": "python3"
  },
  "language_info": {
   "codemirror_mode": {
    "name": "ipython",
    "version": 3
   },
   "file_extension": ".py",
   "mimetype": "text/x-python",
   "name": "python",
   "nbconvert_exporter": "python",
   "pygments_lexer": "ipython3",
   "version": "3.13.5"
  }
 },
 "nbformat": 4,
 "nbformat_minor": 5
}
