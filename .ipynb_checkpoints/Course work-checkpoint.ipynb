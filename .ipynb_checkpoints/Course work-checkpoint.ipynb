{
 "cells": [
  {
   "cell_type": "code",
   "execution_count": null,
   "id": "55642a17-215c-48f9-a831-3ce1866add34",
   "metadata": {},
   "outputs": [],
   "source": [
    "#Q1: Electricity Billing Optimization"
   ]
  },
  {
   "cell_type": "code",
   "execution_count": 42,
   "id": "88d3180f-bdf5-4195-98aa-709b6350bbf8",
   "metadata": {},
   "outputs": [
    {
     "name": "stdout",
     "output_type": "stream",
     "text": [
      "Q1.1 — Name and Bill:\n",
      "Bosco: UGX 200,900\n",
      "Davis: UGX 205,000\n",
      "Brian: UGX 500,000\n",
      "Stuart: UGX 650,000\n",
      "Vivian: UGX 656,000\n",
      "Mark: UGX 123,000\n",
      "Kulis: UGX 510,000\n",
      "Veecky: UGX 777,000\n",
      "Chris: UGX 364,080\n",
      "Agnes: UGX 450,000\n"
     ]
    }
   ],
   "source": [
    "customers = [('Bosco', 245, 'Domestic'), ('Davis', 250, 'Domestic'), ('Brian', 500, 'Commercial'), ('Stuart', 650, 'Commercial'), ('Vivian', 800, 'Domestic'), ('Mark', 150, 'Domestic'), ('Kulis', 510, 'Commercial'), ('Veecky', 777, 'Commercial'), ('Chris', 444, 'Domestic'), ('Agnes', 450, 'Commercial'),]\n",
    "\n",
    "DOMESTIC_RATE = 820\n",
    "COMMERCIAL_RATE = 1000\n"
   ]
  },
  {
   "cell_type": "code",
   "execution_count": null,
   "id": "06ebd20a-9a8a-4209-a2f6-35bd7fb8d6a0",
   "metadata": {},
   "outputs": [],
   "source": [
    "#Q2: Market Basket Price Aggregator Use zip_longest, lambda average, generator expression"
   ]
  },
  {
   "cell_type": "code",
   "execution_count": 5,
   "id": "8f9b7f4d-e0a0-4818-be07-7c83fb2df86d",
   "metadata": {},
   "outputs": [
    {
     "name": "stdout",
     "output_type": "stream",
     "text": [
      "Q2.1 — Example zipped (day-by-day) prices with zip_longest — first 3 days:\n",
      "[(2500, 3000, 4500, 2000), (2700, 3200, 4600, 2100), (2600, 3100, 4550, None)]\n",
      "\n",
      "Q2.2 — Averages per fruit:\n",
      "Mango: UGX 2,650.00\n",
      "Orange: UGX 3,087.50\n",
      "Apple: UGX 4,587.50\n",
      "Banana: UGX 1,366.67\n",
      "\n",
      "Q2.4 — Fruits Above Average Price:\n",
      "Orange, Apple\n"
     ]
    }
   ],
   "source": [
    "from itertools import zip_longest\n",
    "\n",
    "mango_prices = [2500, 2700, 2600, 2800]\n",
    "orange_prices = [3000, 3200, 3100, 3050]\n",
    "apple_prices = [4500, 4600, 4550, 4700]\n",
    "\n",
    "#Introduce a missing price scenario to demonstrate zip_longest\n",
    "banana_prices = [2000, 2100, None]\n",
    "\n",
    "all_price_lists = {'Mango': mango_prices,'Orange': orange_prices,'Apple': apple_prices,'Banana': banana_prices,}\n",
    "\n",
    "#2.1 Use zip_longest() to handle missing prices.\n",
    "zipped = list(zip_longest(mango_prices, orange_prices, apple_prices, banana_prices, fillvalue=None))\n",
    "print(\"Q2.1 — Example zipped (day-by-day) prices with zip_longest — first 3 days:\")\n",
    "print(zipped[:3])\n",
    "\n",
    "#2.2 Define a lambda function avg = lambda lst: sum(lst)/len(lst) to compute average per fruit\n",
    "avg = lambda lst: sum(x for x in lst if (x is not None)) / sum(1 for x in lst)\n",
    "                                                               \n",
    "#2.3 Create a generator expression that yields all fruits with average price above 3000\n",
    "fruit_averages = {fruit: avg(prices) \n",
    "for fruit, prices in all_price_lists.items()}\n",
    "high_avg_gen = (fruit for fruit, a in fruit_averages.items() if a > 3000)\n",
    "\n",
    "#2.4 Print the generator’s results neatly as: Fruits Above Average Price: Mango, Orange, Apple\n",
    "print(\"\\nQ2.2 — Averages per fruit:\")\n",
    "for fruit, a in fruit_averages.items():\n",
    "\n",
    "    print(f\"{fruit}: UGX {a:,.2f}\")\n",
    "\n",
    "print(\"\\nQ2.4 — Fruits Above Average Price:\")\n",
    "print(', '.join(list(high_avg_gen)))"
   ]
  },
  {
   "cell_type": "code",
   "execution_count": null,
   "id": "c8c3ca6c-96a1-4781-a6a4-f01d6ce66801",
   "metadata": {},
   "outputs": [],
   "source": [
    "#Q3: District Temperature Tracker - Convert to Fahrenheit, pair months, filter months > 30°C, generator"
   ]
  },
  {
   "cell_type": "code",
   "execution_count": 12,
   "id": "2cd17471-f20b-4029-96a3-c863d7b5ba7c",
   "metadata": {},
   "outputs": [
    {
     "name": "stdout",
     "output_type": "stream",
     "text": [
      "\n",
      "3.1 map() with lambda to convert to Fahrenheit:\n",
      "\n",
      "Kampala temps in Fahrenheit:\n",
      "['82.4F', '86.0F', '84.2F', '80.6F', '78.8F', '84.2F', '86.0F', '87.8F', '89.6F', '86.0F', '84.2F', '82.4F']\n",
      "\n",
      "gulu temps in Fahrenheit:\n",
      "['77.0F', '78.8F', '80.6F', '80.6F', '82.4F', '84.2F', '86.0F', '86.0F', '84.2F', '80.6F', '78.8F', '77.0F']\n",
      "\n",
      "mbarara temps in Fahrenheit:\n",
      "['71.6F', '73.4F', '73.4F', '75.2F', '77.0F', '77.0F', '78.8F', '80.6F', '80.6F', '78.8F', '75.2F', '73.4F']\n",
      "\n",
      "Q3.2 — Months paired with Kampala temps (°C):\n",
      "[('January', 28), ('February', 30), ('March', 29), ('April', 27), ('May', 26), ('June', 29), ('July', 30), ('August', 31), ('September', 32), ('October', 30), ('November', 29), ('December', 28)]\n",
      "\n",
      "Q3.3 — Months with temp > 30°C:\n",
      "[('August', 31), ('September', 32)]\n",
      "\n",
      "Q3.5 — Hot months in Kampala:\n",
      "August - 31°C, September - 32°C\n"
     ]
    }
   ],
   "source": [
    "kampala = [28, 30, 29, 27, 26, 29, 30, 31, 32, 30, 29, 28]\n",
    "gulu = [25, 26, 27, 27, 28, 29, 30, 30, 29, 27, 26, 25]\n",
    "mbarara = [22, 23, 23, 24, 25, 25, 26, 27, 27, 26, 24, 23]\n",
    "months = ['January', 'February', 'March', 'April', 'May', 'June', 'July', 'August', 'September', 'October', 'November', 'December']\n",
    "\n",
    "#3.1 Use map() with lambda to convert all temperatures to Fahrenheit\n",
    "print(\"\\n3.1 map with lambda to convert to Fahrenheit:\")\n",
    "to_f = lambda c: (c * 9/5) + 32\n",
    "kampala_f = list(map(to_f, kampala))\n",
    "print(\"\\nKampala temps in Fahrenheit:\")\n",
    "print([f\"{t:.1f}F\" for t in kampala_f])\n",
    "\n",
    "to_f = lambda c: (c * 9/5) + 32\n",
    "gulu_f = list(map(to_f, gulu))\n",
    "print(\"\\ngulu temps in Fahrenheit:\")\n",
    "print([f\"{t:.1f}F\" for t in gulu_f])\n",
    "\n",
    "to_f = lambda c: (c * 9/5) + 32\n",
    "mbarara_f = list(map(to_f, mbarara))\n",
    "print(\"\\nmbarara temps in Fahrenheit:\")\n",
    "print([f\"{t:.1f}F\" for t in mbarara_f])\n",
    "\n",
    "#3.2 Use zip() to pair months (Jan–Dec) with Kampala temps\n",
    "month_kampala = list(zip(months, kampala))\n",
    "print(\"\\nQ3.2 — Months paired with Kampala temps (°C):\")\n",
    "print(month_kampala)\n",
    "\n",
    "#3.3 Use filter() to identify months with temperature > 30°C\n",
    "hot_months = list(filter(lambda mt: mt[1] > 30, month_kampala))\n",
    "print(\"\\nQ3.3 — Months with temp > 30°C:\")\n",
    "print(hot_months)\n",
    "\n",
    "#3.4 Create a generator to yield month names and temperatures above threshold\n",
    "hot_gen = ((m, t) for m, t in month_kampala if t > 30)\n",
    "\n",
    "#3.5 Print as: Hot months in Kampala: July - 31°C, August - 32°C\n",
    "print(\"\\nQ3.5 — Hot months in Kampala:\")\n",
    "print(', '.join([f\"{m} - {t}°C\" for m, t in hot_gen]))"
   ]
  },
  {
   "cell_type": "code",
   "execution_count": null,
   "id": "b8e0252f-3752-49ee-963b-1b96073a46fe",
   "metadata": {},
   "outputs": [],
   "source": [
    "#Q4: School Fees Payment Analyzer "
   ]
  },
  {
   "cell_type": "code",
   "execution_count": 21,
   "id": "884b40c1-3256-4b56-9d4c-ee9bbc449c3b",
   "metadata": {},
   "outputs": [
    {
     "name": "stdout",
     "output_type": "stream",
     "text": [
      "\n",
      "Q4.2 — Total paid by each student:\n",
      "[600000, 700000, 900000, 500000]\n",
      "\n",
      "Q4.3 — Student name and total paid combined:\n",
      "Alex: UGX 600,000\n",
      "Grace: UGX 700,000\n",
      "Sarah: UGX 900,000\n",
      "Brian: UGX 500,000\n",
      "\n",
      "Q4.4 — Students who cleared (>= UGX 600,000):\n",
      "[('Alex', 600000), ('Grace', 700000), ('Sarah', 900000)]\n",
      "\n",
      "Q4.5 — Payment summary call:\n",
      "Brian: UGX 500,000 — Outstanding\n"
     ]
    }
   ],
   "source": [
    "students = ['Alex', 'Grace', 'Sarah', 'Brian']\n",
    "installments = [ [150000, 200000, 250000], [500000, 0, 200000], [300000, 300000, 300000],[400000, 100000, 0] ]\n",
    "\n",
    "#4.1 Write a lambda function that sums valid payments and ignores zeros\n",
    "sum_valid = lambda pays: sum(p for p in pays if p and p > 0)\n",
    "\n",
    "#4.2 Use map() to compute total paid by each student\n",
    "student_totals = list(map(sum_valid, installments))\n",
    "print(\"\\nQ4.2 — Total paid by each student:\")\n",
    "print (student_totals)\n",
    "\n",
    "#4.3 Combine student names and totals using zip(). \n",
    "student_totals = list(zip(students, student_totals))\n",
    "print(\"\\nQ4.3 — Student name and total paid combined:\")\n",
    "for s, t in student_totals:\n",
    "    print(f\"{s}: UGX {t:,}\")\n",
    "\n",
    "#4.4 Use filter() to find students who have cleared full fees (≥600,000). \n",
    "cleared = list(filter(lambda st: st[1] >= 600000, student_totals))\n",
    "print(\"\\nQ4.4 — Students who cleared (>= UGX 600,000):\")\n",
    "print(cleared)\n",
    "\n",
    "#4.5 Create payment_summary(**kwargs) that receives named args like Alex=600000 and prints summaries\n",
    "def payment_summary(**kwargs):\n",
    "    for students, paid in kwargs.items():\n",
    "        status = 'Cleared' if paid >= 600_000 else 'Outstanding'\n",
    "    print(f\"{students}: UGX {paid:,} — {status}\")\n",
    "\n",
    "print(\"\\nQ4.5 — Payment summary call:\")\n",
    "payment_summary(**{students: total for students, total in student_totals})"
   ]
  },
  {
   "cell_type": "code",
   "execution_count": null,
   "id": "d5eebddf-abbf-423c-bd17-ef0261d89981",
   "metadata": {},
   "outputs": [],
   "source": [
    "#Q5: Agricultural Yield Estimator "
   ]
  },
  {
   "cell_type": "code",
   "execution_count": 34,
   "id": "0a49a05c-05cf-4eb6-82dc-c6e6a1cb5e9e",
   "metadata": {},
   "outputs": [
    {
     "name": "stdout",
     "output_type": "stream",
     "text": [
      "Q5.1 — Converting yields in tons:\n",
      "[('Bushenyi', 1.2), ('Mityana', 1.5), ('Kasese', 0.9), ('Mbale', 1.3)]\n",
      "\n",
      "Q5.2 — Districts with > 1 ton:\n",
      "['Bushenyi', 'Mityana', 'Mbale']\n",
      "\n",
      "Q5.3 — Average yield (tons): 1.225\n",
      "\n",
      "Q5.5 — Production and Revenue:\n",
      "Bushenyi produced 1.2 tons — Revenue: UGX 4,800,000\n",
      "Mityana produced 1.5 tons — Revenue: UGX 5,700,000\n",
      "Kasese produced 0.9 tons — Revenue: UGX 4,500,000\n",
      "Mbale produced 1.3 tons — Revenue: UGX 4,550,000\n"
     ]
    }
   ],
   "source": [
    "districts = ['Bushenyi', 'Mityana', 'Kasese', 'Mbale'] \n",
    "yield_data = [1200, 1500, 900, 1300] \n",
    "\n",
    "#5.1. Use a list comprehension with a lambda to convert yields from kg to tons. \n",
    "kg_to_ton = lambda kg: kg / 1000\n",
    "tons = [kg_to_ton(y) \n",
    "for y in yield_data]\n",
    "print(\"Q5.1 — Converting yields in tons:\")\n",
    "print(list(zip(districts, tons)))\n",
    "\n",
    "# 5.2 Write a generator that yields only districts with yield > 1 ton.\n",
    "gt_one_ton = (d for d, t in zip(districts, tons) if t > 1)\n",
    "print(\"\\nQ5.2 — Districts with > 1 ton:\")\n",
    "print(list(gt_one_ton))\n",
    "\n",
    "#5.3. Use *args to compute average yield across all districts.\n",
    "def avg_yield(*args):\n",
    "\tvals = list(args)\n",
    "\treturn sum(vals) / len(vals) if vals else 0\n",
    "\n",
    "print(f\"\\nQ5.3 — Average yield (tons): {avg_yield(*tons):.3f}\")\n",
    "\n",
    "#5.4 Use **kwargs to simulate price changes per district and compute revenue (tons × price)\n",
    "\n",
    "#Examples of prices per ton (UGX)\n",
    "prices_per_ton = {'Bushenyi': 4000000,'Mityana': 3800000,'Kasese': 5000000,'Mbale': 3500000,}\n",
    "\n",
    "#Computes revenue using price data passed as keyword arguments.\n",
    "def compute_revenue(districts_list, tons_list, **price_changes):\n",
    "    revenues = { d: round(t * price_changes[d]) for d, t in zip(districts_list, tons_list) }\n",
    "    return revenues\n",
    "\n",
    "#Call the function, passing prices_per_ton using **kwargs\n",
    "revenues = compute_revenue(districts, tons, **prices_per_ton)\n",
    "\n",
    "#5.5 Print formatted output like: Kasese produced 0.9 tons — Revenue: UGX 4,500,000.\n",
    "print(\"\\nQ5.5 — Production and Revenue:\")\n",
    "for d, t in zip(districts, tons): # Simplified loop to use zip() directly\n",
    "    # Ensure all districts have a calculated revenue\n",
    "    rev = revenues.get(d, 0) \n",
    "    print(f\"{d} produced {t:.1f} tons — Revenue: UGX {rev:,.0f}\")\n",
    "\n",
    "\n"
   ]
  },
  {
   "cell_type": "code",
   "execution_count": null,
   "id": "b19222cc-0655-4e15-a83e-7fcc5cc05572",
   "metadata": {},
   "outputs": [],
   "source": [
    "#Q6: Web Data Aggregation"
   ]
  },
  {
   "cell_type": "code",
   "execution_count": 40,
   "id": "dd6a1c18-f1fd-4ab4-b4c1-86bf7d820bed",
   "metadata": {},
   "outputs": [
    {
     "name": "stdout",
     "output_type": "stream",
     "text": [
      "Q6.1/6.3 — Status dictionary (None means request failed):\n",
      "{'https://ucu.ac.ug': 200, 'https://harba.ug': 200, 'https://www.bou.or.ug': 200}\n",
      "\n",
      "Q6.2 — Active sites (200):\n",
      "['https://ucu.ac.ug', 'https://harba.ug', 'https://www.bou.or.ug']\n",
      "\n",
      "Q6.4 — Active site generator results:\n",
      "['Active Site: https://ucu.ac.ug', 'Active Site: https://harba.ug', 'Active Site: https://www.bou.or.ug']\n"
     ]
    }
   ],
   "source": [
    "import requests\n",
    "\n",
    "sites = ['https://ucu.ac.ug', 'https://harba.ug', 'https://www.bou.or.ug']\n",
    "\n",
    "#6.1 Write a function that takes *urls and uses requests.get() to return response codes\n",
    "def fetch_status_codes(*urls, timeout=5):\n",
    "    results = {}\n",
    "    \n",
    "    for u in urls:\n",
    "        try:\n",
    "            r = requests.get(u, timeout=timeout)\n",
    "            results[u] = r.status_code \n",
    "        except Exception as e:\n",
    "            # Network might be unavailable; record as None\n",
    "            results[u] = None\n",
    "    return results\n",
    "\n",
    "#6.2 Use a list comprehension to print only URLs with status code 200.\n",
    "def active_sites_from_status(status_dict):\n",
    "    return [u for u, code in status_dict.items() if code == 200]\n",
    "\n",
    "#6.3 Store results in a dictionary using a dictionary comprehension\n",
    "status_dict = fetch_status_codes(*sites)\n",
    "print(\"Q6.1/6.3 — Status dictionary (None means request failed):\")\n",
    "print(status_dict)\n",
    "\n",
    "#6.2 print only active\n",
    "active = active_sites_from_status(status_dict)\n",
    "print(\"\\nQ6.2 — Active sites (200):\")\n",
    "print(active)\n",
    "\n",
    "#6.4 Create a generator expression that yields 'Active Site: <url>' for reachable domains\n",
    "active_gen = (f\"Active Site: {u}\" for u in active)\n",
    "print(\"\\nQ6.4 — Active site generator results:\")\n",
    "# Generator expressions are memory-efficient, yielding values upon request. \n",
    "print(list(active_gen))\n",
    "\n",
    "# End of notebook\n",
    "print('\\nNotebook execution complete.')"
   ]
  }
 ],
 "metadata": {
  "kernelspec": {
   "display_name": "Python 3 (ipykernel)",
   "language": "python",
   "name": "python3"
  },
  "language_info": {
   "codemirror_mode": {
    "name": "ipython",
    "version": 3
   },
   "file_extension": ".py",
   "mimetype": "text/x-python",
   "name": "python",
   "nbconvert_exporter": "python",
   "pygments_lexer": "ipython3",
   "version": "3.13.5"
  }
 },
 "nbformat": 4,
 "nbformat_minor": 5
}
